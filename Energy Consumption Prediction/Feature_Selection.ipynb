{
 "cells": [
  {
   "cell_type": "code",
   "execution_count": 24,
   "metadata": {},
   "outputs": [
    {
     "name": "stdout",
     "output_type": "stream",
     "text": [
      "The autoreload extension is already loaded. To reload it, use:\n",
      "  %reload_ext autoreload\n"
     ]
    }
   ],
   "source": [
    "import pandas as pd\n",
    "import numpy as np\n",
    "import matplotlib.pyplot as plt # module for plotting \n",
    "import seaborn as sns\n",
    "from matplotlib import cm\n",
    "from IPython.display import display\n",
    "from datetime import datetime\n",
    "from math import sqrt\n",
    "\n",
    "%config IPCompleter.greedy=True\n",
    "%load_ext autoreload\n",
    "%autoreload 2\n",
    "%matplotlib inline\n",
    "\n",
    "# sklearn\n",
    "from sklearn.metrics import (classification_report, confusion_matrix,\n",
    "accuracy_score, log_loss, mean_squared_error, mean_absolute_error, r2_score)\n",
    "from sklearn.preprocessing import MinMaxScaler\n",
    "from sklearn.ensemble import RandomForestRegressor # Ensemble method\n",
    "from sklearn.feature_selection import (chi2, SelectKBest, f_regression, RFE) # Kbest method\n",
    "from sklearn.feature_selection import RFE # Recursive feature elimation\n",
    "from sklearn.linear_model import LinearRegression # Regression method\n",
    "from sklearn.model_selection import train_test_split\n",
    "from sklearn import linear_model\n",
    "from sklearn.tree import DecisionTreeRegressor\n",
    "from sklearn.cluster import KMeans\n",
    "\n",
    "import warnings  \n",
    "warnings.filterwarnings('ignore')"
   ]
  },
  {
   "cell_type": "code",
   "execution_count": 89,
   "metadata": {},
   "outputs": [
    {
     "data": {
      "text/html": [
       "<div>\n",
       "<style scoped>\n",
       "    .dataframe tbody tr th:only-of-type {\n",
       "        vertical-align: middle;\n",
       "    }\n",
       "\n",
       "    .dataframe tbody tr th {\n",
       "        vertical-align: top;\n",
       "    }\n",
       "\n",
       "    .dataframe thead th {\n",
       "        text-align: right;\n",
       "    }\n",
       "</style>\n",
       "<table border=\"1\" class=\"dataframe\">\n",
       "  <thead>\n",
       "    <tr style=\"text-align: right;\">\n",
       "      <th></th>\n",
       "      <th>Date</th>\n",
       "      <th>Current1_Ah</th>\n",
       "      <th>Current2_Ah</th>\n",
       "      <th>Current3_Ah</th>\n",
       "      <th>Total_Ah</th>\n",
       "      <th>Power_kW</th>\n",
       "      <th>Holiday</th>\n",
       "      <th>temp_C</th>\n",
       "      <th>HR</th>\n",
       "      <th>windSpeed_m/s</th>\n",
       "      <th>windGust_m/s</th>\n",
       "      <th>pres_mbar</th>\n",
       "      <th>solarRad_W/m2</th>\n",
       "    </tr>\n",
       "  </thead>\n",
       "  <tbody>\n",
       "    <tr>\n",
       "      <th>0</th>\n",
       "      <td>2017-01-01 00:00:00</td>\n",
       "      <td>180.769</td>\n",
       "      <td>194.099</td>\n",
       "      <td>17.472</td>\n",
       "      <td>392.340</td>\n",
       "      <td>74.897706</td>\n",
       "      <td>1</td>\n",
       "      <td>8.532500</td>\n",
       "      <td>74.966667</td>\n",
       "      <td>2.344500</td>\n",
       "      <td>3.270750</td>\n",
       "      <td>1029.000000</td>\n",
       "      <td>1.355083</td>\n",
       "    </tr>\n",
       "    <tr>\n",
       "      <th>1</th>\n",
       "      <td>2017-01-01 01:00:00</td>\n",
       "      <td>175.629</td>\n",
       "      <td>196.974</td>\n",
       "      <td>21.183</td>\n",
       "      <td>393.785</td>\n",
       "      <td>75.173556</td>\n",
       "      <td>1</td>\n",
       "      <td>7.930000</td>\n",
       "      <td>76.308333</td>\n",
       "      <td>2.692417</td>\n",
       "      <td>3.480333</td>\n",
       "      <td>1028.166667</td>\n",
       "      <td>1.477333</td>\n",
       "    </tr>\n",
       "    <tr>\n",
       "      <th>2</th>\n",
       "      <td>2017-01-01 02:00:00</td>\n",
       "      <td>172.005</td>\n",
       "      <td>196.694</td>\n",
       "      <td>20.030</td>\n",
       "      <td>388.728</td>\n",
       "      <td>74.208175</td>\n",
       "      <td>1</td>\n",
       "      <td>7.263417</td>\n",
       "      <td>80.275000</td>\n",
       "      <td>3.300250</td>\n",
       "      <td>4.067167</td>\n",
       "      <td>1028.000000</td>\n",
       "      <td>1.415083</td>\n",
       "    </tr>\n",
       "  </tbody>\n",
       "</table>\n",
       "</div>"
      ],
      "text/plain": [
       "                  Date  Current1_Ah  Current2_Ah  Current3_Ah  Total_Ah  \\\n",
       "0  2017-01-01 00:00:00      180.769      194.099       17.472   392.340   \n",
       "1  2017-01-01 01:00:00      175.629      196.974       21.183   393.785   \n",
       "2  2017-01-01 02:00:00      172.005      196.694       20.030   388.728   \n",
       "\n",
       "    Power_kW  Holiday    temp_C         HR  windSpeed_m/s  windGust_m/s  \\\n",
       "0  74.897706        1  8.532500  74.966667       2.344500      3.270750   \n",
       "1  75.173556        1  7.930000  76.308333       2.692417      3.480333   \n",
       "2  74.208175        1  7.263417  80.275000       3.300250      4.067167   \n",
       "\n",
       "     pres_mbar  solarRad_W/m2  \n",
       "0  1029.000000       1.355083  \n",
       "1  1028.166667       1.477333  \n",
       "2  1028.000000       1.415083  "
      ]
     },
     "execution_count": 89,
     "metadata": {},
     "output_type": "execute_result"
    }
   ],
   "source": [
    "df = pd.read_csv('data_readyfor_prediction.csv')\n",
    "df.head(3)\n"
   ]
  },
  {
   "cell_type": "code",
   "execution_count": 90,
   "metadata": {},
   "outputs": [],
   "source": [
    "def evaluation_metric(model, y_test, y_pred):\n",
    "    if model == \"test\":\n",
    "        print(None)\n",
    "    elif model == \"RMSE\":\n",
    "        result = sqrt(mean_squared_error(y_test, y_pred))\n",
    "        return result        \n",
    "        "
   ]
  },
  {
   "cell_type": "code",
   "execution_count": 91,
   "metadata": {},
   "outputs": [],
   "source": [
    "df['Date']=pd.to_datetime(df['Date'])\n",
    "df['Power-1']=df['Power_kW'].shift(1)\n",
    "\n",
    "df = df.set_index('Date' , drop = True)\n",
    "#df1 = df.drop (columns = ['Date'])\n",
    "df2 = df1.dropna()"
   ]
  },
  {
   "cell_type": "markdown",
   "metadata": {},
   "source": [
    "# 1 FEATURE SELECTION\n",
    "\n",
    "- ** Filter method**: Selection methods that utilize statistical measuring to attribe a score for each feature. Features are classified according to a score function to be removed or maintained by the model. The highest the score feature the better is that feature to contributing to the model"
   ]
  },
  {
   "cell_type": "code",
   "execution_count": 92,
   "metadata": {},
   "outputs": [
    {
     "name": "stdout",
     "output_type": "stream",
     "text": [
      " Feature data dimension:  (5692, 13)\n"
     ]
    }
   ],
   "source": [
    "print(\" Feature data dimension: \", df2.shape)\n",
    "Data=df2.values\n",
    "Y=Data[:,4] #output\n",
    "X=Data[:,[0,1,2,3,5,6,7,8,9,10,11,12]] #input\n",
    "\n",
    "#df2.reset_index(drop=True, inplace=True)"
   ]
  },
  {
   "cell_type": "code",
   "execution_count": 93,
   "metadata": {},
   "outputs": [
    {
     "data": {
      "text/plain": [
       "Index(['Current1_Ah', 'Current2_Ah', 'Current3_Ah', 'Total_Ah', 'Power_kW',\n",
       "       'Holiday', 'temp_C', 'HR', 'windSpeed_m/s', 'windGust_m/s', 'pres_mbar',\n",
       "       'solarRad_W/m2', 'Power-1'],\n",
       "      dtype='object')"
      ]
     },
     "execution_count": 93,
     "metadata": {},
     "output_type": "execute_result"
    }
   ],
   "source": [
    "df2.columns"
   ]
  },
  {
   "cell_type": "code",
   "execution_count": 94,
   "metadata": {},
   "outputs": [],
   "source": [
    "#X = df2.drop(['Power_kW'], axis=1)\n",
    "#Y = df2['Power_kW']\n"
   ]
  },
  {
   "cell_type": "code",
   "execution_count": 96,
   "metadata": {},
   "outputs": [
    {
     "name": "stdout",
     "output_type": "stream",
     "text": [
      "[75.1735565 74.2081752 73.7358886 ... 82.7047524 80.6184063 75.092424 ]\n"
     ]
    }
   ],
   "source": [
    "print(Y)"
   ]
  },
  {
   "cell_type": "markdown",
   "metadata": {},
   "source": [
    "### 1.1 Kbest Model\n",
    "- Extract best features of dataset. The SelectKBest method selects the features according to the k highest score.\n",
    "#### SelectKBest for regression data\n",
    "For regression we will set `f_regression` method as a scoring function. The target number of features to select is 5 We'll fit and transform the model on training X and Y data.\n"
   ]
  },
  {
   "cell_type": "code",
   "execution_count": 97,
   "metadata": {},
   "outputs": [
    {
     "name": "stdout",
     "output_type": "stream",
     "text": [
      "After selecting best 5 features: (5692, 5)\n"
     ]
    }
   ],
   "source": [
    "select = SelectKBest(score_func = f_regression, k=5)\n",
    "z = select.fit_transform(X, Y) \n",
    "print(\"After selecting best 5 features:\", z.shape) "
   ]
  },
  {
   "cell_type": "markdown",
   "metadata": {},
   "source": [
    "- To identify the selected features we can use `get_support()` function and filter out them from the features list. The z object contains selected X data. "
   ]
  },
  {
   "cell_type": "code",
   "execution_count": 98,
   "metadata": {},
   "outputs": [
    {
     "name": "stdout",
     "output_type": "stream",
     "text": [
      "All features:  ['Current1_Ah', 'Current2_Ah', 'Current3_Ah', 'Total_Ah', 'Power_kW', 'Holiday', 'temp_C', 'HR', 'windSpeed_m/s', 'windGust_m/s', 'pres_mbar', 'solarRad_W/m2', 'Power-1']\n",
      "Selected best 5:  ['Current1_Ah', 'Current2_Ah', 'Current3_Ah', 'windSpeed_m/s', 'solarRad_W/m2']\n",
      "[ 2.80026718e+04  1.09222657e+04  9.20893955e+02 -1.22026104e+17\n",
      "  5.30860359e+01  9.86685135e+00  4.94787131e+01  1.19387615e+02\n",
      "  1.24904617e+02  8.35316910e+00  1.98628164e+01  6.65809004e+03]\n"
     ]
    }
   ],
   "source": [
    "\n",
    "feature_names = list(df2.columns.values)\n",
    "\n",
    "mask = select.get_support() # list of boleans\n",
    "new_features = [] # The list of your K best features\n",
    "\n",
    "for bool, feature in zip(mask, feature_names):\n",
    "     if bool:\n",
    "        new_features.append(feature)\n",
    "\n",
    "print('All features: ', feature_names)\n",
    "print('Selected best 5: ', new_features)\n",
    "\n",
    "print(select.fit(X,Y).scores_)\n"
   ]
  },
  {
   "cell_type": "code",
   "execution_count": 99,
   "metadata": {},
   "outputs": [],
   "source": [
    "#mask = select.get_support(indices=True)\n",
    "#X.iloc[:, mask]"
   ]
  },
  {
   "cell_type": "markdown",
   "metadata": {},
   "source": [
    "**Wrapper method**: (selection method) - select a set of features, training and evaluate the model\n",
    "### 1.2 Recursive Feature Elimination (RFE) \n",
    "Is used to select features by recursively considering smaller and smaller sets of features. First, the features are trained in a initial set of features (using one of machine learning model) and the importance of feature is obtained. Then, the least important features are prunned from the current set of features. That procedure is recursively repeated until the desired number of features is eventually reached. "
   ]
  },
  {
   "cell_type": "code",
   "execution_count": 100,
   "metadata": {},
   "outputs": [
    {
     "name": "stdout",
     "output_type": "stream",
     "text": [
      "Number of features: 5\n"
     ]
    }
   ],
   "source": [
    "model = LinearRegression()\n",
    "rfe = RFE(model,5)\n",
    "fit = rfe.fit(X,Y)\n",
    "\n",
    "print('Number of features: {}'.format(fit.n_features_))"
   ]
  },
  {
   "cell_type": "code",
   "execution_count": 101,
   "metadata": {},
   "outputs": [
    {
     "name": "stdout",
     "output_type": "stream",
     "text": [
      "Feature Ranking (Linear Model, 5 features): [1 1 1 1 1 7 8 2 3 5 4 6]\n"
     ]
    }
   ],
   "source": [
    "#print('All features: ', feature_names)\n",
    "\n",
    "print( \"Feature Ranking (Linear Model, 5 features): %s\" % (fit.ranking_))"
   ]
  },
  {
   "cell_type": "markdown",
   "metadata": {},
   "source": [
    "- SolarRad_W/m2\n",
    "- Holiday\n",
    "- HR\n",
    "- windSpeed_m/s"
   ]
  },
  {
   "cell_type": "markdown",
   "metadata": {},
   "source": [
    "### 1.3 Ensemble method\n",
    "Learns whcih features better improve the performance of the model."
   ]
  },
  {
   "cell_type": "code",
   "execution_count": 102,
   "metadata": {},
   "outputs": [
    {
     "name": "stdout",
     "output_type": "stream",
     "text": [
      "[4.10878058e-06 2.83065762e-06 5.27973414e-06 9.99963343e-01\n",
      " 6.98335695e-07 2.29850417e-06 3.47402649e-06 1.59902698e-06\n",
      " 1.15104055e-06 3.64690784e-06 2.40600423e-06 9.16400289e-06]\n"
     ]
    }
   ],
   "source": [
    "model = RandomForestRegressor()\n",
    "model.fit(X,Y)\n",
    "print(model.feature_importances_)\n"
   ]
  },
  {
   "cell_type": "code",
   "execution_count": 103,
   "metadata": {},
   "outputs": [
    {
     "data": {
      "text/plain": [
       "Index(['Current1_Ah', 'Current2_Ah', 'Current3_Ah', 'Total_Ah', 'Power_kW',\n",
       "       'Holiday', 'temp_C', 'HR', 'windSpeed_m/s', 'windGust_m/s', 'pres_mbar',\n",
       "       'solarRad_W/m2', 'Power-1'],\n",
       "      dtype='object')"
      ]
     },
     "execution_count": 103,
     "metadata": {},
     "output_type": "execute_result"
    }
   ],
   "source": [
    "df2.columns"
   ]
  },
  {
   "cell_type": "code",
   "execution_count": 104,
   "metadata": {},
   "outputs": [],
   "source": [
    "df2.to_csv('data_after_selection.csv')"
   ]
  },
  {
   "cell_type": "code",
   "execution_count": null,
   "metadata": {},
   "outputs": [],
   "source": []
  }
 ],
 "metadata": {
  "kernelspec": {
   "display_name": "Python 3",
   "language": "python",
   "name": "python3"
  },
  "language_info": {
   "codemirror_mode": {
    "name": "ipython",
    "version": 3
   },
   "file_extension": ".py",
   "mimetype": "text/x-python",
   "name": "python",
   "nbconvert_exporter": "python",
   "pygments_lexer": "ipython3",
   "version": "3.6.11"
  }
 },
 "nbformat": 4,
 "nbformat_minor": 2
}
